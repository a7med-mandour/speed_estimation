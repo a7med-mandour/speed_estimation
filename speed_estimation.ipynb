{
  "nbformat": 4,
  "nbformat_minor": 0,
  "metadata": {
    "colab": {
      "provenance": []
    },
    "kernelspec": {
      "name": "python3",
      "display_name": "Python 3"
    },
    "language_info": {
      "name": "python"
    },
    "widgets": {
      "application/vnd.jupyter.widget-state+json": {
        "64e6402eac404c3c81a04fc8ce96362d": {
          "model_module": "@jupyter-widgets/controls",
          "model_name": "HBoxModel",
          "model_module_version": "1.5.0",
          "state": {
            "_dom_classes": [],
            "_model_module": "@jupyter-widgets/controls",
            "_model_module_version": "1.5.0",
            "_model_name": "HBoxModel",
            "_view_count": null,
            "_view_module": "@jupyter-widgets/controls",
            "_view_module_version": "1.5.0",
            "_view_name": "HBoxView",
            "box_style": "",
            "children": [
              "IPY_MODEL_49f07e8228ec417ea480aa0c51437fa3",
              "IPY_MODEL_1aa9edd784554ff4bb6c9275b38bbaaa",
              "IPY_MODEL_9fbec3962a6c4b40a8ffe2e38db4bdc2"
            ],
            "layout": "IPY_MODEL_ce295f1f805640c39729ce769ebec767"
          }
        },
        "49f07e8228ec417ea480aa0c51437fa3": {
          "model_module": "@jupyter-widgets/controls",
          "model_name": "HTMLModel",
          "model_module_version": "1.5.0",
          "state": {
            "_dom_classes": [],
            "_model_module": "@jupyter-widgets/controls",
            "_model_module_version": "1.5.0",
            "_model_name": "HTMLModel",
            "_view_count": null,
            "_view_module": "@jupyter-widgets/controls",
            "_view_module_version": "1.5.0",
            "_view_name": "HTMLView",
            "description": "",
            "description_tooltip": null,
            "layout": "IPY_MODEL_fa692cc8bc2447409db7dff8fc8894ab",
            "placeholder": "​",
            "style": "IPY_MODEL_5af238b6becf4d60947d4d10ee024480",
            "value": "100%"
          }
        },
        "1aa9edd784554ff4bb6c9275b38bbaaa": {
          "model_module": "@jupyter-widgets/controls",
          "model_name": "FloatProgressModel",
          "model_module_version": "1.5.0",
          "state": {
            "_dom_classes": [],
            "_model_module": "@jupyter-widgets/controls",
            "_model_module_version": "1.5.0",
            "_model_name": "FloatProgressModel",
            "_view_count": null,
            "_view_module": "@jupyter-widgets/controls",
            "_view_module_version": "1.5.0",
            "_view_name": "ProgressView",
            "bar_style": "success",
            "description": "",
            "description_tooltip": null,
            "layout": "IPY_MODEL_7dd831321f5648cab382ebeba9136f5e",
            "max": 35345757,
            "min": 0,
            "orientation": "horizontal",
            "style": "IPY_MODEL_9960ede7e0794bf9adaf398f28917345",
            "value": 35345757
          }
        },
        "9fbec3962a6c4b40a8ffe2e38db4bdc2": {
          "model_module": "@jupyter-widgets/controls",
          "model_name": "HTMLModel",
          "model_module_version": "1.5.0",
          "state": {
            "_dom_classes": [],
            "_model_module": "@jupyter-widgets/controls",
            "_model_module_version": "1.5.0",
            "_model_name": "HTMLModel",
            "_view_count": null,
            "_view_module": "@jupyter-widgets/controls",
            "_view_module_version": "1.5.0",
            "_view_name": "HTMLView",
            "description": "",
            "description_tooltip": null,
            "layout": "IPY_MODEL_da772a668509432d9b3b470c353d8fd7",
            "placeholder": "​",
            "style": "IPY_MODEL_67a3fb215a3e49f58bb1cd696bfeb80b",
            "value": " 33.7M/33.7M [00:01&lt;00:00, 27.2MB/s]"
          }
        },
        "ce295f1f805640c39729ce769ebec767": {
          "model_module": "@jupyter-widgets/base",
          "model_name": "LayoutModel",
          "model_module_version": "1.2.0",
          "state": {
            "_model_module": "@jupyter-widgets/base",
            "_model_module_version": "1.2.0",
            "_model_name": "LayoutModel",
            "_view_count": null,
            "_view_module": "@jupyter-widgets/base",
            "_view_module_version": "1.2.0",
            "_view_name": "LayoutView",
            "align_content": null,
            "align_items": null,
            "align_self": null,
            "border": null,
            "bottom": null,
            "display": null,
            "flex": null,
            "flex_flow": null,
            "grid_area": null,
            "grid_auto_columns": null,
            "grid_auto_flow": null,
            "grid_auto_rows": null,
            "grid_column": null,
            "grid_gap": null,
            "grid_row": null,
            "grid_template_areas": null,
            "grid_template_columns": null,
            "grid_template_rows": null,
            "height": null,
            "justify_content": null,
            "justify_items": null,
            "left": null,
            "margin": null,
            "max_height": null,
            "max_width": null,
            "min_height": null,
            "min_width": null,
            "object_fit": null,
            "object_position": null,
            "order": null,
            "overflow": null,
            "overflow_x": null,
            "overflow_y": null,
            "padding": null,
            "right": null,
            "top": null,
            "visibility": null,
            "width": null
          }
        },
        "fa692cc8bc2447409db7dff8fc8894ab": {
          "model_module": "@jupyter-widgets/base",
          "model_name": "LayoutModel",
          "model_module_version": "1.2.0",
          "state": {
            "_model_module": "@jupyter-widgets/base",
            "_model_module_version": "1.2.0",
            "_model_name": "LayoutModel",
            "_view_count": null,
            "_view_module": "@jupyter-widgets/base",
            "_view_module_version": "1.2.0",
            "_view_name": "LayoutView",
            "align_content": null,
            "align_items": null,
            "align_self": null,
            "border": null,
            "bottom": null,
            "display": null,
            "flex": null,
            "flex_flow": null,
            "grid_area": null,
            "grid_auto_columns": null,
            "grid_auto_flow": null,
            "grid_auto_rows": null,
            "grid_column": null,
            "grid_gap": null,
            "grid_row": null,
            "grid_template_areas": null,
            "grid_template_columns": null,
            "grid_template_rows": null,
            "height": null,
            "justify_content": null,
            "justify_items": null,
            "left": null,
            "margin": null,
            "max_height": null,
            "max_width": null,
            "min_height": null,
            "min_width": null,
            "object_fit": null,
            "object_position": null,
            "order": null,
            "overflow": null,
            "overflow_x": null,
            "overflow_y": null,
            "padding": null,
            "right": null,
            "top": null,
            "visibility": null,
            "width": null
          }
        },
        "5af238b6becf4d60947d4d10ee024480": {
          "model_module": "@jupyter-widgets/controls",
          "model_name": "DescriptionStyleModel",
          "model_module_version": "1.5.0",
          "state": {
            "_model_module": "@jupyter-widgets/controls",
            "_model_module_version": "1.5.0",
            "_model_name": "DescriptionStyleModel",
            "_view_count": null,
            "_view_module": "@jupyter-widgets/base",
            "_view_module_version": "1.2.0",
            "_view_name": "StyleView",
            "description_width": ""
          }
        },
        "7dd831321f5648cab382ebeba9136f5e": {
          "model_module": "@jupyter-widgets/base",
          "model_name": "LayoutModel",
          "model_module_version": "1.2.0",
          "state": {
            "_model_module": "@jupyter-widgets/base",
            "_model_module_version": "1.2.0",
            "_model_name": "LayoutModel",
            "_view_count": null,
            "_view_module": "@jupyter-widgets/base",
            "_view_module_version": "1.2.0",
            "_view_name": "LayoutView",
            "align_content": null,
            "align_items": null,
            "align_self": null,
            "border": null,
            "bottom": null,
            "display": null,
            "flex": null,
            "flex_flow": null,
            "grid_area": null,
            "grid_auto_columns": null,
            "grid_auto_flow": null,
            "grid_auto_rows": null,
            "grid_column": null,
            "grid_gap": null,
            "grid_row": null,
            "grid_template_areas": null,
            "grid_template_columns": null,
            "grid_template_rows": null,
            "height": null,
            "justify_content": null,
            "justify_items": null,
            "left": null,
            "margin": null,
            "max_height": null,
            "max_width": null,
            "min_height": null,
            "min_width": null,
            "object_fit": null,
            "object_position": null,
            "order": null,
            "overflow": null,
            "overflow_x": null,
            "overflow_y": null,
            "padding": null,
            "right": null,
            "top": null,
            "visibility": null,
            "width": null
          }
        },
        "9960ede7e0794bf9adaf398f28917345": {
          "model_module": "@jupyter-widgets/controls",
          "model_name": "ProgressStyleModel",
          "model_module_version": "1.5.0",
          "state": {
            "_model_module": "@jupyter-widgets/controls",
            "_model_module_version": "1.5.0",
            "_model_name": "ProgressStyleModel",
            "_view_count": null,
            "_view_module": "@jupyter-widgets/base",
            "_view_module_version": "1.2.0",
            "_view_name": "StyleView",
            "bar_color": "#a351fb",
            "description_width": ""
          }
        },
        "da772a668509432d9b3b470c353d8fd7": {
          "model_module": "@jupyter-widgets/base",
          "model_name": "LayoutModel",
          "model_module_version": "1.2.0",
          "state": {
            "_model_module": "@jupyter-widgets/base",
            "_model_module_version": "1.2.0",
            "_model_name": "LayoutModel",
            "_view_count": null,
            "_view_module": "@jupyter-widgets/base",
            "_view_module_version": "1.2.0",
            "_view_name": "LayoutView",
            "align_content": null,
            "align_items": null,
            "align_self": null,
            "border": null,
            "bottom": null,
            "display": null,
            "flex": null,
            "flex_flow": null,
            "grid_area": null,
            "grid_auto_columns": null,
            "grid_auto_flow": null,
            "grid_auto_rows": null,
            "grid_column": null,
            "grid_gap": null,
            "grid_row": null,
            "grid_template_areas": null,
            "grid_template_columns": null,
            "grid_template_rows": null,
            "height": null,
            "justify_content": null,
            "justify_items": null,
            "left": null,
            "margin": null,
            "max_height": null,
            "max_width": null,
            "min_height": null,
            "min_width": null,
            "object_fit": null,
            "object_position": null,
            "order": null,
            "overflow": null,
            "overflow_x": null,
            "overflow_y": null,
            "padding": null,
            "right": null,
            "top": null,
            "visibility": null,
            "width": null
          }
        },
        "67a3fb215a3e49f58bb1cd696bfeb80b": {
          "model_module": "@jupyter-widgets/controls",
          "model_name": "DescriptionStyleModel",
          "model_module_version": "1.5.0",
          "state": {
            "_model_module": "@jupyter-widgets/controls",
            "_model_module_version": "1.5.0",
            "_model_name": "DescriptionStyleModel",
            "_view_count": null,
            "_view_module": "@jupyter-widgets/base",
            "_view_module_version": "1.2.0",
            "_view_name": "StyleView",
            "description_width": ""
          }
        }
      }
    }
  },
  "cells": [
    {
      "cell_type": "code",
      "execution_count": 2,
      "metadata": {
        "colab": {
          "base_uri": "https://localhost:8080/"
        },
        "collapsed": true,
        "id": "-NwNkWwNuhl6",
        "outputId": "c9dff068-9708-4cf5-a851-eff33d0fdcd3"
      },
      "outputs": [
        {
          "output_type": "stream",
          "name": "stdout",
          "text": [
            "Collecting ultralytics\n",
            "  Downloading ultralytics-8.3.15-py3-none-any.whl.metadata (34 kB)\n",
            "Collecting supervision\n",
            "  Downloading supervision-0.24.0-py3-none-any.whl.metadata (14 kB)\n",
            "Requirement already satisfied: numpy>=1.23.0 in /usr/local/lib/python3.10/dist-packages (from ultralytics) (1.26.4)\n",
            "Requirement already satisfied: matplotlib>=3.3.0 in /usr/local/lib/python3.10/dist-packages (from ultralytics) (3.7.1)\n",
            "Requirement already satisfied: opencv-python>=4.6.0 in /usr/local/lib/python3.10/dist-packages (from ultralytics) (4.10.0.84)\n",
            "Requirement already satisfied: pillow>=7.1.2 in /usr/local/lib/python3.10/dist-packages (from ultralytics) (10.4.0)\n",
            "Requirement already satisfied: pyyaml>=5.3.1 in /usr/local/lib/python3.10/dist-packages (from ultralytics) (6.0.2)\n",
            "Requirement already satisfied: requests>=2.23.0 in /usr/local/lib/python3.10/dist-packages (from ultralytics) (2.32.3)\n",
            "Requirement already satisfied: scipy>=1.4.1 in /usr/local/lib/python3.10/dist-packages (from ultralytics) (1.13.1)\n",
            "Requirement already satisfied: torch>=1.8.0 in /usr/local/lib/python3.10/dist-packages (from ultralytics) (2.4.1+cu121)\n",
            "Requirement already satisfied: torchvision>=0.9.0 in /usr/local/lib/python3.10/dist-packages (from ultralytics) (0.19.1+cu121)\n",
            "Requirement already satisfied: tqdm>=4.64.0 in /usr/local/lib/python3.10/dist-packages (from ultralytics) (4.66.5)\n",
            "Requirement already satisfied: psutil in /usr/local/lib/python3.10/dist-packages (from ultralytics) (5.9.5)\n",
            "Requirement already satisfied: py-cpuinfo in /usr/local/lib/python3.10/dist-packages (from ultralytics) (9.0.0)\n",
            "Requirement already satisfied: pandas>=1.1.4 in /usr/local/lib/python3.10/dist-packages (from ultralytics) (2.2.2)\n",
            "Requirement already satisfied: seaborn>=0.11.0 in /usr/local/lib/python3.10/dist-packages (from ultralytics) (0.13.2)\n",
            "Collecting ultralytics-thop>=2.0.0 (from ultralytics)\n",
            "  Downloading ultralytics_thop-2.0.9-py3-none-any.whl.metadata (9.3 kB)\n",
            "Requirement already satisfied: defusedxml<0.8.0,>=0.7.1 in /usr/local/lib/python3.10/dist-packages (from supervision) (0.7.1)\n",
            "Requirement already satisfied: contourpy>=1.0.1 in /usr/local/lib/python3.10/dist-packages (from matplotlib>=3.3.0->ultralytics) (1.3.0)\n",
            "Requirement already satisfied: cycler>=0.10 in /usr/local/lib/python3.10/dist-packages (from matplotlib>=3.3.0->ultralytics) (0.12.1)\n",
            "Requirement already satisfied: fonttools>=4.22.0 in /usr/local/lib/python3.10/dist-packages (from matplotlib>=3.3.0->ultralytics) (4.54.1)\n",
            "Requirement already satisfied: kiwisolver>=1.0.1 in /usr/local/lib/python3.10/dist-packages (from matplotlib>=3.3.0->ultralytics) (1.4.7)\n",
            "Requirement already satisfied: packaging>=20.0 in /usr/local/lib/python3.10/dist-packages (from matplotlib>=3.3.0->ultralytics) (24.1)\n",
            "Requirement already satisfied: pyparsing>=2.3.1 in /usr/local/lib/python3.10/dist-packages (from matplotlib>=3.3.0->ultralytics) (3.1.4)\n",
            "Requirement already satisfied: python-dateutil>=2.7 in /usr/local/lib/python3.10/dist-packages (from matplotlib>=3.3.0->ultralytics) (2.8.2)\n",
            "Requirement already satisfied: pytz>=2020.1 in /usr/local/lib/python3.10/dist-packages (from pandas>=1.1.4->ultralytics) (2024.2)\n",
            "Requirement already satisfied: tzdata>=2022.7 in /usr/local/lib/python3.10/dist-packages (from pandas>=1.1.4->ultralytics) (2024.2)\n",
            "Requirement already satisfied: charset-normalizer<4,>=2 in /usr/local/lib/python3.10/dist-packages (from requests>=2.23.0->ultralytics) (3.4.0)\n",
            "Requirement already satisfied: idna<4,>=2.5 in /usr/local/lib/python3.10/dist-packages (from requests>=2.23.0->ultralytics) (3.10)\n",
            "Requirement already satisfied: urllib3<3,>=1.21.1 in /usr/local/lib/python3.10/dist-packages (from requests>=2.23.0->ultralytics) (2.2.3)\n",
            "Requirement already satisfied: certifi>=2017.4.17 in /usr/local/lib/python3.10/dist-packages (from requests>=2.23.0->ultralytics) (2024.8.30)\n",
            "Requirement already satisfied: filelock in /usr/local/lib/python3.10/dist-packages (from torch>=1.8.0->ultralytics) (3.16.1)\n",
            "Requirement already satisfied: typing-extensions>=4.8.0 in /usr/local/lib/python3.10/dist-packages (from torch>=1.8.0->ultralytics) (4.12.2)\n",
            "Requirement already satisfied: sympy in /usr/local/lib/python3.10/dist-packages (from torch>=1.8.0->ultralytics) (1.13.3)\n",
            "Requirement already satisfied: networkx in /usr/local/lib/python3.10/dist-packages (from torch>=1.8.0->ultralytics) (3.4)\n",
            "Requirement already satisfied: jinja2 in /usr/local/lib/python3.10/dist-packages (from torch>=1.8.0->ultralytics) (3.1.4)\n",
            "Requirement already satisfied: fsspec in /usr/local/lib/python3.10/dist-packages (from torch>=1.8.0->ultralytics) (2024.6.1)\n",
            "Requirement already satisfied: six>=1.5 in /usr/local/lib/python3.10/dist-packages (from python-dateutil>=2.7->matplotlib>=3.3.0->ultralytics) (1.16.0)\n",
            "Requirement already satisfied: MarkupSafe>=2.0 in /usr/local/lib/python3.10/dist-packages (from jinja2->torch>=1.8.0->ultralytics) (3.0.1)\n",
            "Requirement already satisfied: mpmath<1.4,>=1.1.0 in /usr/local/lib/python3.10/dist-packages (from sympy->torch>=1.8.0->ultralytics) (1.3.0)\n",
            "Downloading ultralytics-8.3.15-py3-none-any.whl (870 kB)\n",
            "\u001b[2K   \u001b[90m━━━━━━━━━━━━━━━━━━━━━━━━━━━━━━━━━━━━━━━━\u001b[0m \u001b[32m870.5/870.5 kB\u001b[0m \u001b[31m8.4 MB/s\u001b[0m eta \u001b[36m0:00:00\u001b[0m\n",
            "\u001b[?25hDownloading supervision-0.24.0-py3-none-any.whl (158 kB)\n",
            "\u001b[2K   \u001b[90m━━━━━━━━━━━━━━━━━━━━━━━━━━━━━━━━━━━━━━━━\u001b[0m \u001b[32m158.2/158.2 kB\u001b[0m \u001b[31m8.2 MB/s\u001b[0m eta \u001b[36m0:00:00\u001b[0m\n",
            "\u001b[?25hDownloading ultralytics_thop-2.0.9-py3-none-any.whl (26 kB)\n",
            "Installing collected packages: ultralytics-thop, supervision, ultralytics\n",
            "Successfully installed supervision-0.24.0 ultralytics-8.3.15 ultralytics-thop-2.0.9\n"
          ]
        }
      ],
      "source": [
        "pip install ultralytics supervision"
      ]
    },
    {
      "cell_type": "code",
      "source": [
        "import supervision as sv\n",
        "from supervision.assets import VideoAssets, download_assets\n",
        "from ultralytics import YOLO\n",
        "import cv2\n",
        "from google.colab.patches import cv2_imshow\n",
        "import matplotlib.pyplot as plt\n",
        "import numpy as np\n",
        "from collections import defaultdict"
      ],
      "metadata": {
        "id": "WY3XCLuWuwi8",
        "colab": {
          "base_uri": "https://localhost:8080/"
        },
        "outputId": "814d047d-a368-4d2b-ede3-343d63de6297"
      },
      "execution_count": 3,
      "outputs": [
        {
          "output_type": "stream",
          "name": "stdout",
          "text": [
            "Creating new Ultralytics Settings v0.0.6 file ✅ \n",
            "View Ultralytics Settings with 'yolo settings' or at '/root/.config/Ultralytics/settings.json'\n",
            "Update Settings with 'yolo settings key=value', i.e. 'yolo settings runs_dir=path/to/dir'. For help see https://docs.ultralytics.com/quickstart/#ultralytics-settings.\n"
          ]
        }
      ]
    },
    {
      "cell_type": "code",
      "source": [
        "download_assets(VideoAssets.VEHICLES)"
      ],
      "metadata": {
        "colab": {
          "base_uri": "https://localhost:8080/",
          "height": 105,
          "referenced_widgets": [
            "64e6402eac404c3c81a04fc8ce96362d",
            "49f07e8228ec417ea480aa0c51437fa3",
            "1aa9edd784554ff4bb6c9275b38bbaaa",
            "9fbec3962a6c4b40a8ffe2e38db4bdc2",
            "ce295f1f805640c39729ce769ebec767",
            "fa692cc8bc2447409db7dff8fc8894ab",
            "5af238b6becf4d60947d4d10ee024480",
            "7dd831321f5648cab382ebeba9136f5e",
            "9960ede7e0794bf9adaf398f28917345",
            "da772a668509432d9b3b470c353d8fd7",
            "67a3fb215a3e49f58bb1cd696bfeb80b"
          ]
        },
        "id": "3so6Nu1mvIBt",
        "outputId": "e9253560-b860-40d7-c3de-a3ac66685622"
      },
      "execution_count": 4,
      "outputs": [
        {
          "output_type": "stream",
          "name": "stdout",
          "text": [
            "Downloading vehicles.mp4 assets \n",
            "\n"
          ]
        },
        {
          "output_type": "display_data",
          "data": {
            "text/plain": [
              "  0%|          | 0/35345757 [00:00<?, ?it/s]"
            ],
            "application/vnd.jupyter.widget-view+json": {
              "version_major": 2,
              "version_minor": 0,
              "model_id": "64e6402eac404c3c81a04fc8ce96362d"
            }
          },
          "metadata": {}
        },
        {
          "output_type": "execute_result",
          "data": {
            "text/plain": [
              "'vehicles.mp4'"
            ],
            "application/vnd.google.colaboratory.intrinsic+json": {
              "type": "string"
            }
          },
          "metadata": {},
          "execution_count": 4
        }
      ]
    },
    {
      "cell_type": "code",
      "source": [
        "# Initialize frame generator for the video file\n",
        "\n",
        "frame_generator = sv.get_video_frames_generator(\"vehicles.mp4\")\n",
        "# frame = next(iter(frame_generator))"
      ],
      "metadata": {
        "id": "25-5W06MvUtA"
      },
      "execution_count": 101,
      "outputs": []
    },
    {
      "cell_type": "code",
      "source": [
        "# cv2.imwrite(\"image.jpg\",frame)"
      ],
      "metadata": {
        "id": "4nNo4wBA5oHU"
      },
      "execution_count": null,
      "outputs": []
    },
    {
      "cell_type": "code",
      "source": [
        "# Define source and target points for perspective transformation\n",
        "# Source represents the four points in the original video frame\n",
        "\n",
        "source = np.array([\n",
        "    [1254, 784],\n",
        "    [2297, 806],\n",
        "    [3350, 1299],\n",
        "    [563, 1303]\n",
        "])\n",
        "# Target represents the four points after transformation\n",
        "\n",
        "target = np.array([\n",
        "    [0, 0],\n",
        "    [24, 0],\n",
        "    [24, 199],\n",
        "    [0, 199]\n",
        "])\n",
        "\n",
        "start = sv.Point(3350, 1299)\n",
        "end = sv.Point(563, 1303)\n"
      ],
      "metadata": {
        "id": "Klkq5JGS2KQq"
      },
      "execution_count": 102,
      "outputs": []
    },
    {
      "cell_type": "code",
      "source": [
        "class PerspectiveTransformer():\n",
        "  \"\"\"\n",
        "    This class is responsible for performing perspective transformation\n",
        "    on a set of points using the given source and target coordinates.\n",
        "    \"\"\"\n",
        "  def __init__ (self, source, target):\n",
        "        # Convert source and target points to float32\n",
        "        source = source.astype(np.float32)\n",
        "        target = target.astype(np.float32)\n",
        "        # Calculate perspective transformation matrix\n",
        "        self.matrix = cv2.getPerspectiveTransform(source, target)\n",
        "\n",
        "  def transform(self, points):\n",
        "    \"\"\"\n",
        "        Transforms the input points using the perspective transformation matrix.\n",
        "        :param points: array of points to transform\n",
        "        :return: transformed points\n",
        "        \"\"\"\n",
        "    if points.size == 0:\n",
        "      return points\n",
        "\n",
        "    else:\n",
        "      points = points.reshape(-1,1,2).astype(np.float32)\n",
        "      points = cv2.perspectiveTransform(points, self.matrix)\n",
        "      return points.reshape(-1,2)"
      ],
      "metadata": {
        "id": "5pNvEB7SKU0J"
      },
      "execution_count": 103,
      "outputs": []
    },
    {
      "cell_type": "code",
      "source": [
        "# Retrieve video information\n",
        "video_inf = sv.VideoInfo.from_video_path('/content/vehicles.mp4')\n",
        "\n",
        "# Calculate optimal thickness for annotations based on video resolution\n",
        "thickness = sv.calculate_optimal_line_thickness(video_inf.resolution_wh)\n",
        "\n",
        "# Calculate optimal text scale based on video resolution\n",
        "text_scale = sv.calculate_optimal_text_scale(video_inf.resolution_wh)\n",
        "\n",
        "# Initialize annotators for bounding boxes, labels, and trace\n",
        "bb_ann = sv.BoxAnnotator(thickness=thickness)\n",
        "lab_ann = sv.LabelAnnotator(text_scale=text_scale,\n",
        "                            text_thickness=thickness,\n",
        "                            text_position=sv.Position.BOTTOM_CENTER )\n",
        "tace_ann = sv.TraceAnnotator(thickness=thickness,\n",
        "                             trace_length=video_inf.fps ,\n",
        "                             position = sv.Position.BOTTOM_CENTER)\n",
        "\n",
        "line_ann = sv.LineZoneAnnotator(thickness=thickness,text_thickness = thickness, text_scale = text_scale)\n",
        "\n",
        "# Define a polygon zone from the source points\n",
        "polygon_zone = sv.PolygonZone(polygon=source)\n",
        "# zone_ann = sv.PolygonZoneAnnotator(thickness=thickness,zone=polygon_zone,color= sv.Color.RED)\n",
        "\n",
        "line = sv.LineZone(start,end, triggering_anchors=[sv.Position.BOTTOM_CENTER])\n",
        "\n"
      ],
      "metadata": {
        "id": "at3uRUr-2VvT"
      },
      "execution_count": 106,
      "outputs": []
    },
    {
      "cell_type": "code",
      "source": [
        "model = YOLO('yolov8n.pt')\n",
        "\n",
        "# Initialize ByteTrack tracker with frame rate and tracking threshold\n",
        "tracker = sv.ByteTrack(frame_rate= video_inf.fps, track_activation_threshold= 0.3\n",
        "                       )\n",
        "# Initialize perspective transformer\n",
        "pers_trans = PerspectiveTransformer(source, target)\n",
        "\n",
        "# Dictionary to store y-coordinates of tracked objects\n",
        "co_or = defaultdict(list)"
      ],
      "metadata": {
        "id": "8YILlPz7wFhZ"
      },
      "execution_count": 105,
      "outputs": []
    },
    {
      "cell_type": "code",
      "source": [
        "# Process video frames and save the annotated output\n",
        "with sv.VideoSink(\"out.mp4\", video_inf) as sink:\n",
        "    for frame in frame_generator:\n",
        "        # Run YOLO model on the current frame\n",
        "        result = model(frame, verbose=False)[0]\n",
        "\n",
        "        # Extract detections from the model result\n",
        "        detections = sv.Detections.from_ultralytics(result)\n",
        "\n",
        "        # Filter detections based on confidence threshold\n",
        "        detections = detections[detections.confidence > 0.3]\n",
        "\n",
        "        # Keep only detections inside the polygon zone\n",
        "        # detections = detections[polygon_zone.trigger(detections)]\n",
        "\n",
        "        # Apply Non-Maximum Suppression (NMS) to remove redundant detections\n",
        "        detections = detections.with_nms(0.3)\n",
        "\n",
        "        # Update tracker with the filtered detections\n",
        "        detections = tracker.update_with_detections(detections)\n",
        "\n",
        "        # Get the anchor points of detected objects (bottom-center of bounding boxes)\n",
        "        points = detections.get_anchors_coordinates(sv.Position.BOTTOM_CENTER)\n",
        "\n",
        "        # Apply perspective transformation to the points\n",
        "        points = pers_trans.transform(points)\n",
        "\n",
        "        # Update y-coordinates for each tracked object\n",
        "        for id, point in zip(detections.tracker_id, points):\n",
        "            x, y = point.astype(int)\n",
        "            co_or[id].append(y)\n",
        "\n",
        "        # Prepare labels for each object\n",
        "        labels = []\n",
        "        for id in detections.tracker_id:\n",
        "            if len(co_or[id]) < (video_inf.fps / 2):  # Not enough frames to calculate speed\n",
        "                labels.append(f\"{id}\")\n",
        "            else:\n",
        "                start = co_or[id][0]\n",
        "                end = co_or[id][-1]\n",
        "                dist = abs(start - end)\n",
        "\n",
        "                # Calculate speed in km/h\n",
        "                time = len(co_or[id]) / video_inf.fps\n",
        "                speed = dist / time * 3.6  # Convert to km/h\n",
        "                labels.append(f\"{id}={int(speed)} km/h\")\n",
        "\n",
        "        # Annotate the frame with bounding boxes, labels, and traces\n",
        "        frame = sv.draw_polygon(frame.copy(), source, color=sv.Color.RED,thickness=2)\n",
        "        annotated_frame = bb_ann.annotate(frame, detections=detections)\n",
        "        annotated_frame = lab_ann.annotate(annotated_frame, detections=detections, labels=labels)\n",
        "        annotated_frame = tace_ann.annotate(annotated_frame, detections=detections)\n",
        "        line.trigger(detections=detections)\n",
        "\n",
        "        annotated_frame =  line_ann.annotate(annotated_frame,line_counter=line)\n",
        "        # print(f\"In Count: {line_zone.in_count}, Out Count: {line_zone.out_count}\")\n",
        "\n",
        "\n",
        "\n",
        "        # Write the annotated frame to the output video\n",
        "        sink.write_frame(annotated_frame)\n"
      ],
      "metadata": {
        "id": "ocjh4Np9vUnV"
      },
      "execution_count": 107,
      "outputs": []
    },
    {
      "cell_type": "code",
      "source": [
        "from google.colab import files\n",
        "files.download('/content/out.mp4')"
      ],
      "metadata": {
        "colab": {
          "base_uri": "https://localhost:8080/",
          "height": 17
        },
        "id": "eP6PCqn5HwGW",
        "outputId": "a17b21e7-f557-46db-bb50-ea4bf616443e"
      },
      "execution_count": 108,
      "outputs": [
        {
          "output_type": "display_data",
          "data": {
            "text/plain": [
              "<IPython.core.display.Javascript object>"
            ],
            "application/javascript": [
              "\n",
              "    async function download(id, filename, size) {\n",
              "      if (!google.colab.kernel.accessAllowed) {\n",
              "        return;\n",
              "      }\n",
              "      const div = document.createElement('div');\n",
              "      const label = document.createElement('label');\n",
              "      label.textContent = `Downloading \"${filename}\": `;\n",
              "      div.appendChild(label);\n",
              "      const progress = document.createElement('progress');\n",
              "      progress.max = size;\n",
              "      div.appendChild(progress);\n",
              "      document.body.appendChild(div);\n",
              "\n",
              "      const buffers = [];\n",
              "      let downloaded = 0;\n",
              "\n",
              "      const channel = await google.colab.kernel.comms.open(id);\n",
              "      // Send a message to notify the kernel that we're ready.\n",
              "      channel.send({})\n",
              "\n",
              "      for await (const message of channel.messages) {\n",
              "        // Send a message to notify the kernel that we're ready.\n",
              "        channel.send({})\n",
              "        if (message.buffers) {\n",
              "          for (const buffer of message.buffers) {\n",
              "            buffers.push(buffer);\n",
              "            downloaded += buffer.byteLength;\n",
              "            progress.value = downloaded;\n",
              "          }\n",
              "        }\n",
              "      }\n",
              "      const blob = new Blob(buffers, {type: 'application/binary'});\n",
              "      const a = document.createElement('a');\n",
              "      a.href = window.URL.createObjectURL(blob);\n",
              "      a.download = filename;\n",
              "      div.appendChild(a);\n",
              "      a.click();\n",
              "      div.remove();\n",
              "    }\n",
              "  "
            ]
          },
          "metadata": {}
        },
        {
          "output_type": "display_data",
          "data": {
            "text/plain": [
              "<IPython.core.display.Javascript object>"
            ],
            "application/javascript": [
              "download(\"download_e9d1dc42-8e97-4123-b7da-0fbc08ad960f\", \"out.mp4\", 83130004)"
            ]
          },
          "metadata": {}
        }
      ]
    },
    {
      "cell_type": "code",
      "source": [],
      "metadata": {
        "id": "1Hkq-LA5vUHi"
      },
      "execution_count": null,
      "outputs": []
    }
  ]
}